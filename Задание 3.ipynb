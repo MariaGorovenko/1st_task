{
 "cells": [
  {
   "cell_type": "code",
   "execution_count": 470,
   "id": "244d8c4a",
   "metadata": {},
   "outputs": [],
   "source": [
    "f = open('table.csv',mode='w',encoding='MacCyrillic')\n",
    "f.close()"
   ]
  },
  {
   "cell_type": "code",
   "execution_count": 152,
   "id": "f72504a8",
   "metadata": {},
   "outputs": [],
   "source": [
    "import csv"
   ]
  },
  {
   "cell_type": "code",
   "execution_count": 483,
   "id": "d5be64ed",
   "metadata": {},
   "outputs": [],
   "source": [
    "def safe_table_csv(f,header,*rows):   # функция по сохранению файла (т.е. записи данных из программы в файл)\n",
    "    with open(f, mode='w') as w_f:\n",
    "        file_csv_w = csv.writer(w_f, delimiter = \",\", lineterminator=\"\\r\")   # lineterminator - разделитель между строками таблицы\n",
    "        file_csv_w.writerow(header)\n",
    "        for r in rows:\n",
    "            file_csv_w.writerow(r)"
   ]
  },
  {
   "cell_type": "code",
   "execution_count": 484,
   "id": "a13183c0",
   "metadata": {},
   "outputs": [],
   "source": [
    "safe_table_csv('table.csv',['Фамилия','Имя','Отчество'],(['Петров','Петр','Петрович'],['Иванов','Иван','Иваныч']))"
   ]
  },
  {
   "cell_type": "code",
   "execution_count": 488,
   "id": "49697f9a",
   "metadata": {},
   "outputs": [],
   "source": [
    "def load_table_csv(f):   # функция по загрузке файла (т.е. чтению данных из файла и загрузке их в программу)\n",
    "    with open(f) as r_f:\n",
    "        file_csv_r = csv.reader(r_f, delimiter = ',')   # Создаем объект reader, указываем символ-разделитель \",\"\n",
    "        count = 0   # Счетчик для подсчета количества строк и вывода заголовков столбцов\n",
    "        for row in file_csv_r:   # Считывание данных из CSV файла\n",
    "            if count == 0:\n",
    "                print(f'Таблица содержит столбцы: {\" , \".join(row)}')   # Вывод строки, содержащей заголовки для столбцов\n",
    "                print('Строки таблицы: ')\n",
    "            else:\n",
    "                print(', '.join(row))   # Вывод строк\n",
    "            count += 1\n",
    "        print(f'Всего в файле {count} строк.')"
   ]
  },
  {
   "cell_type": "code",
   "execution_count": 489,
   "id": "bb470de9",
   "metadata": {
    "scrolled": true
   },
   "outputs": [
    {
     "name": "stdout",
     "output_type": "stream",
     "text": [
      "Таблица содержит столбцы: Фамилия , Имя , Отчество\n",
      "Строки таблицы: \n",
      "['Петров', 'Петр', 'Петрович'], ['Иванов', 'Иван', 'Иваныч']\n",
      "Всего в файле 2 строк.\n"
     ]
    }
   ],
   "source": [
    "load_table_csv('table.csv')"
   ]
  },
  {
   "cell_type": "code",
   "execution_count": 276,
   "id": "ca5163b6",
   "metadata": {},
   "outputs": [],
   "source": [
    "import pickle\n",
    "import shelve"
   ]
  },
  {
   "cell_type": "code",
   "execution_count": 326,
   "id": "55b897d3",
   "metadata": {},
   "outputs": [],
   "source": [
    "data = {'Фамилия': ['Петров','Иванов','Николаев'], 'Имя': ['Петр','Иван','Николай'], 'Отчество': ['Петрович', 'Иванович','Николаевич']}"
   ]
  },
  {
   "cell_type": "code",
   "execution_count": 465,
   "id": "4824d231",
   "metadata": {},
   "outputs": [],
   "source": [
    "def safe_table_pickle(f,d):   # функция по сохранению файла\n",
    "    with open(f, 'wb') as f_w:\n",
    "        pickle.dump(d, f_w)"
   ]
  },
  {
   "cell_type": "code",
   "execution_count": 466,
   "id": "50748587",
   "metadata": {},
   "outputs": [],
   "source": [
    "safe_table_pickle('table.pickle',d=data)"
   ]
  },
  {
   "cell_type": "code",
   "execution_count": 467,
   "id": "fb5ebeb6",
   "metadata": {},
   "outputs": [],
   "source": [
    "def load_table_pickle(f):   # функция по загрузке файла\n",
    "    with open(f,'rb') as f_r:\n",
    "        data_new = pickle.load(f_r)\n",
    "        print(', '.join([k for k in data_new.keys()]))\n",
    "        for i in range(len(list(data_new.keys()))):\n",
    "            print(', '.join([v[i] for v in data_new.values()]))"
   ]
  },
  {
   "cell_type": "code",
   "execution_count": 468,
   "id": "6188d128",
   "metadata": {
    "scrolled": false
   },
   "outputs": [
    {
     "name": "stdout",
     "output_type": "stream",
     "text": [
      "Фамилия, Имя, Отчество\n",
      "Петров, Петр, Петрович\n",
      "Иванов, Иван, Иванович\n",
      "Николаев, Николай, Николаевич\n"
     ]
    }
   ],
   "source": [
    "load_table_pickle('table.pickle')"
   ]
  },
  {
   "cell_type": "code",
   "execution_count": 534,
   "id": "41d84250",
   "metadata": {},
   "outputs": [],
   "source": [
    "def safe_table_txt(f,header,*arg):   # функция по сохранению файла\n",
    "    with open(f,'w') as f_w:\n",
    "        f_w.writelines(', '.join(header) + '\\n')\n",
    "        for a in arg:\n",
    "            f_w.writelines(', '.join(map(str, a)) + '\\n')"
   ]
  },
  {
   "cell_type": "code",
   "execution_count": 535,
   "id": "e9de3521",
   "metadata": {},
   "outputs": [],
   "source": [
    "safe_table_txt('table.txt',['Фамилия','Имя','Отчество'],(['Петров','Петр','Петрович'],['Иванов','Иван','Иванович']))"
   ]
  },
  {
   "cell_type": "code",
   "execution_count": 536,
   "id": "829c3829",
   "metadata": {},
   "outputs": [],
   "source": [
    "def print_table(f):   # функция по загрузке файла\n",
    "    with open(f,'r') as f_r:\n",
    "        print(f_r.read())"
   ]
  },
  {
   "cell_type": "code",
   "execution_count": 537,
   "id": "f4b1a6af",
   "metadata": {},
   "outputs": [
    {
     "name": "stdout",
     "output_type": "stream",
     "text": [
      "Фамилия, Имя, Отчество\n",
      "['Петров', 'Петр', 'Петрович'], ['Иванов', 'Иван', 'Иванович']\n",
      "\n"
     ]
    }
   ],
   "source": [
    "print_table('table.txt')"
   ]
  },
  {
   "cell_type": "markdown",
   "id": "45844b01",
   "metadata": {},
   "source": [
    "    get_rows_by_number_csv\n",
    "Получить строки по их номеру из таблицы. Можно выбрать одну строку или несколько строк, указав начальный и конечный номер строки. Если параметр copy_table установлен в False, то функция вернет новое представление таблицы, которое будет работать с исходными данными. Если параметр установлен в True, то данные будут скопированы, и изменения в новой таблице не будут влиять на исходную."
   ]
  },
  {
   "cell_type": "code",
   "execution_count": 168,
   "id": "ee15078a",
   "metadata": {},
   "outputs": [],
   "source": [
    "def get_rows_by_number_csv(f, en, start=0, stop=0, copy_table=False):\n",
    "    with open(f, encoding=en) as r_f:\n",
    "        file_csv_r = csv.reader(r_f, delimiter = ',') \n",
    "        for i in range(start):\n",
    "            next(file_csv_r)\n",
    "            print(next(file_csv_r))\n",
    "        if stop != 0:\n",
    "            for i in range(stop-start):\n",
    "                print(next(file_csv_r))"
   ]
  },
  {
   "cell_type": "code",
   "execution_count": 169,
   "id": "d336f760",
   "metadata": {},
   "outputs": [],
   "source": [
    "get_rows_by_number_csv(f='table.csv',en='MacCyrillic', start=0, stop=0, copy_table=False)"
   ]
  },
  {
   "cell_type": "code",
   "execution_count": 216,
   "id": "0969f611",
   "metadata": {},
   "outputs": [],
   "source": [
    "def get_rows_by_number_pickle(f, start=0, stop=0, copy_table=False):\n",
    "    with open(f,'rb') as f_r:\n",
    "        data_new = pickle.load(f_r)\n",
    "        if start == 0:\n",
    "            print(', '.join([k for k in data_new.keys()]))\n",
    "        else:\n",
    "            print(', '.join([v[start-1] for v in data_new.values()]))  \n",
    "        if stop != 0:\n",
    "            for i in range(start,stop):\n",
    "                print(', '.join([v[i] for v in data_new.values()]))"
   ]
  },
  {
   "cell_type": "code",
   "execution_count": 217,
   "id": "d6d4ec90",
   "metadata": {
    "scrolled": true
   },
   "outputs": [
    {
     "name": "stdout",
     "output_type": "stream",
     "text": [
      "Фамилия, Имя, Отчество\n",
      "Петров, Петр, Петрович\n",
      "Иванов, Иван, Иванович\n",
      "Николаев, Николай, Николаевич\n"
     ]
    }
   ],
   "source": [
    "get_rows_by_number_pickle(f='table.pickle', start=0, stop=3, copy_table=False)"
   ]
  },
  {
   "cell_type": "code",
   "execution_count": 219,
   "id": "9efa4422",
   "metadata": {},
   "outputs": [
    {
     "name": "stdout",
     "output_type": "stream",
     "text": [
      "Фамилия, Имя, Отчество\n",
      "Петров, Петр, Петрович\n",
      "Иванов, Иван, Иванович\n"
     ]
    }
   ],
   "source": [
    "get_rows_by_number_pickle(f='table.pickle', stop=2, copy_table=False)"
   ]
  },
  {
   "cell_type": "markdown",
   "id": "0f8671f5",
   "metadata": {},
   "source": [
    "    get_rows_by_index\n",
    "Получить строки по индексу (val1, … , copy_table=False) - создать новую таблицу из одной строки или строк, которые имеют значения в первом столбце, совпадающие с переданными аргументами val1, … , valN. Функция может скопировать исходные данные или создать новое представление таблицы, которое будет работать с исходными данными (copy_table=False). Изменения, внесенные через это представление, будут отображаться и в исходной таблице."
   ]
  },
  {
   "cell_type": "code",
   "execution_count": 553,
   "id": "b3d9d081",
   "metadata": {},
   "outputs": [],
   "source": [
    "def get_rows_by_index(f1, f2, *val, copy_table=False):\n",
    "    \n",
    "    try:\n",
    "        with open(f1,'rb') as fr:\n",
    "            data_new = pickle.load(fr)\n",
    "            row = list(data_new.values())[0]   # значения первого столбца для всех строк\n",
    "            for c in val:\n",
    "                for r in row:\n",
    "                    if c == r:\n",
    "                        l = []\n",
    "                        if copy_table:\n",
    "                            print(', '.join(list(data_new.values())[row.index(r)]))\n",
    "                        else:\n",
    "                            l = list(data_new.values())[row.index(r)]\n",
    "                            with open(f2,'wb') as fw:\n",
    "                                pickle.dump(l,fw)\n",
    "                            with open(f2,'rb') as fr:\n",
    "                                rez = pickle.load(fr)\n",
    "                            print(rez)\n",
    "    except FileNotFoundError:\n",
    "        print('Такого файла не существует!')"
   ]
  },
  {
   "cell_type": "code",
   "execution_count": 554,
   "id": "0dcb16bb",
   "metadata": {},
   "outputs": [],
   "source": [
    "get_rows_by_index('table.pickle', 'table.pickle_', ['Петров','Николаев'], copy_table=True)"
   ]
  },
  {
   "cell_type": "code",
   "execution_count": 555,
   "id": "956e930b",
   "metadata": {},
   "outputs": [],
   "source": [
    "get_rows_by_index('table.pickle', 'table.pickle_', ['Петров','Николаев'], copy_table=False)"
   ]
  },
  {
   "cell_type": "code",
   "execution_count": 548,
   "id": "d5cf798e",
   "metadata": {},
   "outputs": [
    {
     "name": "stdout",
     "output_type": "stream",
     "text": [
      "Такого файла не существует!\n"
     ]
    }
   ],
   "source": [
    "get_rows_by_index('file', ['Петров','Николаев'], copy_table=False)"
   ]
  },
  {
   "cell_type": "markdown",
   "id": "5d8fb87d",
   "metadata": {},
   "source": [
    "    get_column_types(by_number=True)\n",
    "Функция get_column_types(by_number=True) возвращает словарь, где ключи - названия столбцов, а значения - их типы данных (int, float, bool, str). Если параметр by_number=True, то значения столбцов будут определяться по их числовому индексу, иначе - по их названию."
   ]
  },
  {
   "cell_type": "code",
   "execution_count": 398,
   "id": "6df6578b",
   "metadata": {},
   "outputs": [],
   "source": [
    "def get_column_types(f, by_number=True):\n",
    "    try:\n",
    "        with open(f,'rb') as fr:\n",
    "            data_new = pickle.load(fr)\n",
    "            db = {}\n",
    "            for k,v in data_new.items():\n",
    "                if by_number:\n",
    "                    for j in range(len(list(data_new.keys()))):\n",
    "                        db[j+1] = [type(v[i]) for i in range(len(list(data_new.values())[0]))]\n",
    "                else:\n",
    "                    db[k] = [type(v[i]) for i in range(len(list(data_new.values())[0]))]\n",
    "            print(db)\n",
    "    except FileNotFoundError:\n",
    "        print('Такого файла не существует!')"
   ]
  },
  {
   "cell_type": "code",
   "execution_count": 399,
   "id": "f52cf510",
   "metadata": {},
   "outputs": [],
   "source": [
    "data2 = {'Фамилия': ['Петров','Иванов','Николаев'], 'Имя': ['Петр','Иван','Николай'], 'Отчество': ['Петрович', 'Иванович','Николаевич'], 'Пароль': [123,'iii',True]}\n",
    "safe_table_pickle('table2.pickle',d=data2)"
   ]
  },
  {
   "cell_type": "code",
   "execution_count": 400,
   "id": "bb1f1194",
   "metadata": {},
   "outputs": [
    {
     "name": "stdout",
     "output_type": "stream",
     "text": [
      "Такого файла не существует!\n"
     ]
    }
   ],
   "source": [
    "get_column_types('file', by_number=True)"
   ]
  },
  {
   "cell_type": "code",
   "execution_count": 342,
   "id": "2cbe5043",
   "metadata": {},
   "outputs": [
    {
     "name": "stdout",
     "output_type": "stream",
     "text": [
      "{1: [<class 'str'>, <class 'str'>, <class 'str'>], 2: [<class 'str'>, <class 'str'>, <class 'str'>], 3: [<class 'str'>, <class 'str'>, <class 'str'>]}\n"
     ]
    }
   ],
   "source": [
    "get_column_types('table.pickle', by_number=True)"
   ]
  },
  {
   "cell_type": "code",
   "execution_count": 343,
   "id": "40ddcc15",
   "metadata": {},
   "outputs": [
    {
     "name": "stdout",
     "output_type": "stream",
     "text": [
      "{1: [<class 'int'>, <class 'str'>, <class 'bool'>], 2: [<class 'int'>, <class 'str'>, <class 'bool'>], 3: [<class 'int'>, <class 'str'>, <class 'bool'>], 4: [<class 'int'>, <class 'str'>, <class 'bool'>]}\n"
     ]
    }
   ],
   "source": [
    "get_column_types('table2.pickle', by_number=True)"
   ]
  },
  {
   "cell_type": "code",
   "execution_count": 344,
   "id": "d243c07e",
   "metadata": {},
   "outputs": [
    {
     "name": "stdout",
     "output_type": "stream",
     "text": [
      "{'Фамилия': [<class 'str'>, <class 'str'>, <class 'str'>], 'Имя': [<class 'str'>, <class 'str'>, <class 'str'>], 'Отчество': [<class 'str'>, <class 'str'>, <class 'str'>], 'Пароль': [<class 'int'>, <class 'str'>, <class 'bool'>]}\n"
     ]
    }
   ],
   "source": [
    "get_column_types('table2.pickle', by_number=False)"
   ]
  },
  {
   "cell_type": "markdown",
   "id": "256cbce9",
   "metadata": {},
   "source": [
    "    set_column_types(types_dict, by_number=True)\n",
    "Задание словаря вида столбец:тип_значений. Тип значения: int, float, bool, str (по умолчанию для всех столбцов). Параметр by_number определяет вид значения столбец – целочисленный индекс столбца или его строковое представление"
   ]
  },
  {
   "cell_type": "code",
   "execution_count": 361,
   "id": "846dc3bd",
   "metadata": {},
   "outputs": [],
   "source": [
    "def set_column_types(f, names_dict=[], types_dict=[], by_number=True):\n",
    "    with open(f,'wb') as fw:\n",
    "        db = {}\n",
    "        if by_number:\n",
    "            for j in range(len(types_dict)):\n",
    "                db[j+1] = types_dict[j]\n",
    "        else:\n",
    "            for j in range(len(names_dict)):\n",
    "                db[names_dict[j]] = types_dict[j]\n",
    "        pickle.dump(db, fw)\n",
    "    with open(f,'rb') as fr:\n",
    "        rez = pickle.load(fr)\n",
    "        print(rez)"
   ]
  },
  {
   "cell_type": "code",
   "execution_count": 362,
   "id": "ea3fa6a8",
   "metadata": {},
   "outputs": [
    {
     "name": "stdout",
     "output_type": "stream",
     "text": [
      "{1: <class 'str'>, 2: <class 'int'>, 3: <class 'float'>}\n"
     ]
    }
   ],
   "source": [
    "set_column_types(f='table3.pickle', types_dict=[str,int,float], by_number=True)"
   ]
  },
  {
   "cell_type": "code",
   "execution_count": 363,
   "id": "fff3bf17",
   "metadata": {},
   "outputs": [
    {
     "name": "stdout",
     "output_type": "stream",
     "text": [
      "{'Name': <class 'str'>, 'Age': <class 'int'>, 'Height': <class 'float'>}\n"
     ]
    }
   ],
   "source": [
    "set_column_types(f='table3.pickle', names_dict=['Name','Age','Height'], types_dict=[str,int,float], by_number=False)"
   ]
  },
  {
   "cell_type": "code",
   "execution_count": 430,
   "id": "2a1d2a12",
   "metadata": {},
   "outputs": [],
   "source": [
    "def set_column_types_2(f, by_number=True, types_dict = 'str'):\n",
    "    try:\n",
    "        with open(f,'rb') as fr:\n",
    "            data_new = pickle.load(fr)\n",
    "            db = {}\n",
    "            try:\n",
    "                for k,v in data_new.items():\n",
    "                    if by_number:\n",
    "                        for j in range(len(list(data_new.keys()))):\n",
    "                            if types_dict == 'str':\n",
    "                                db[j+1] = [str(v[i]) for i in range(len(list(data_new.values())[0]))]\n",
    "                            elif types_dict == 'int':\n",
    "                                db[j+1] = [int(v[i]) for i in range(len(list(data_new.values())[0]))]\n",
    "                            elif types_dict == 'float':\n",
    "                                db[j+1] = [float(v[i]) for i in range(len(list(data_new.values())[0]))]\n",
    "                            elif types_dict == 'bool':\n",
    "                                db[j+1] = [bool(v[i]) for i in range(len(list(data_new.values())[0]))]\n",
    "                    else:\n",
    "                        if types_dict == 'str':\n",
    "                            db[k] = [str(v[i]) for i in range(len(list(data_new.values())[0]))]\n",
    "                        elif types_dict == 'int':\n",
    "                            db[k] = [int(v[i]) for i in range(len(list(data_new.values())[0]))]\n",
    "                        elif types_dict == 'float':\n",
    "                            db[k] = [float(v[i]) for i in range(len(list(data_new.values())[0]))]\n",
    "                        elif types_dict == 'bool':\n",
    "                            db[k] = [bool(v[i]) for i in range(len(list(data_new.values())[0]))]\n",
    "                return db\n",
    "            except ValueError:\n",
    "                print('Преобразование невозможно!')\n",
    "    except FileNotFoundError:\n",
    "        print('Такого файла не существует!')"
   ]
  },
  {
   "cell_type": "code",
   "execution_count": 431,
   "id": "36429dad",
   "metadata": {},
   "outputs": [
    {
     "data": {
      "text/plain": [
       "{'Фамилия': ['Петров', 'Иванов', 'Николаев'],\n",
       " 'Имя': ['Петр', 'Иван', 'Николай'],\n",
       " 'Отчество': ['Петрович', 'Иванович', 'Николаевич'],\n",
       " 'Пароль': ['123', 'iii', 'True']}"
      ]
     },
     "execution_count": 431,
     "metadata": {},
     "output_type": "execute_result"
    }
   ],
   "source": [
    "set_column_types_2('table2.pickle', by_number=False, types_dict= 'str')"
   ]
  },
  {
   "cell_type": "code",
   "execution_count": 432,
   "id": "33986c03",
   "metadata": {},
   "outputs": [
    {
     "name": "stdout",
     "output_type": "stream",
     "text": [
      "Преобразование невозможно!\n"
     ]
    }
   ],
   "source": [
    "set_column_types_2('table2.pickle', by_number=False, types_dict= 'int')"
   ]
  },
  {
   "cell_type": "code",
   "execution_count": 433,
   "id": "593d6ce9",
   "metadata": {},
   "outputs": [
    {
     "name": "stdout",
     "output_type": "stream",
     "text": [
      "Такого файла не существует!\n"
     ]
    }
   ],
   "source": [
    "set_column_types_2('file', by_number=False, types_dict= 'int')"
   ]
  },
  {
   "cell_type": "code",
   "execution_count": 434,
   "id": "3a0f8b5f",
   "metadata": {
    "scrolled": true
   },
   "outputs": [
    {
     "data": {
      "text/plain": [
       "{1: ['123', 'iii', 'True'],\n",
       " 2: ['123', 'iii', 'True'],\n",
       " 3: ['123', 'iii', 'True'],\n",
       " 4: ['123', 'iii', 'True']}"
      ]
     },
     "execution_count": 434,
     "metadata": {},
     "output_type": "execute_result"
    }
   ],
   "source": [
    "set_column_types_2('table2.pickle', by_number=True, types_dict= 'str') # Не работает :( "
   ]
  },
  {
   "cell_type": "markdown",
   "id": "9d3192f9",
   "metadata": {},
   "source": [
    "    get_values(column=0)\n",
    "Получение списка значений (типизированных согласно типу столбца) таблицы из столбца либо по номеру столбца (целое число, значение по умолчанию 0, либо по имени столбца)"
   ]
  },
  {
   "cell_type": "code",
   "execution_count": 448,
   "id": "3890dcc6",
   "metadata": {},
   "outputs": [],
   "source": [
    "def get_values(f, column=0):\n",
    "    try:\n",
    "        with open(f,'rb') as fr:\n",
    "            db = pickle.load(fr)\n",
    "            rez = []\n",
    "            for k,v in db.items():\n",
    "                if type(column) == str:\n",
    "                    if column == k:\n",
    "                        rez = v\n",
    "                elif type(column) == int:\n",
    "                    rez = list(db.values())[column]\n",
    "            return rez\n",
    "    except FileNotFoundError:\n",
    "        print('Такого файла не существует!')"
   ]
  },
  {
   "cell_type": "code",
   "execution_count": 449,
   "id": "d26bd681",
   "metadata": {},
   "outputs": [
    {
     "data": {
      "text/plain": [
       "['Петрович', 'Иванович', 'Николаевич']"
      ]
     },
     "execution_count": 449,
     "metadata": {},
     "output_type": "execute_result"
    }
   ],
   "source": [
    "get_values('table2.pickle', column='Отчество')"
   ]
  },
  {
   "cell_type": "code",
   "execution_count": 450,
   "id": "67bd65e0",
   "metadata": {},
   "outputs": [
    {
     "data": {
      "text/plain": [
       "['Петров', 'Иванов', 'Николаев']"
      ]
     },
     "execution_count": 450,
     "metadata": {},
     "output_type": "execute_result"
    }
   ],
   "source": [
    "get_values('table2.pickle')"
   ]
  },
  {
   "cell_type": "code",
   "execution_count": 451,
   "id": "f99bd02c",
   "metadata": {},
   "outputs": [
    {
     "data": {
      "text/plain": [
       "['Петр', 'Иван', 'Николай']"
      ]
     },
     "execution_count": 451,
     "metadata": {},
     "output_type": "execute_result"
    }
   ],
   "source": [
    "get_values('table2.pickle', column=1)"
   ]
  },
  {
   "cell_type": "code",
   "execution_count": 452,
   "id": "a3ecb3f1",
   "metadata": {},
   "outputs": [
    {
     "name": "stdout",
     "output_type": "stream",
     "text": [
      "Такого файла не существует!\n"
     ]
    }
   ],
   "source": [
    "get_values('file')"
   ]
  },
  {
   "cell_type": "markdown",
   "id": "22ecaa4f",
   "metadata": {},
   "source": [
    "    get_value(column=0)\n",
    "Аналог get_values(column=0) для представления таблицы с одной строкой, возвращает не список, а одно значение (типизированное согласно типу столбца)."
   ]
  },
  {
   "cell_type": "markdown",
   "id": "87984751",
   "metadata": {},
   "source": [
    "    set_values(values, column=0)\n",
    "Задание списка значений values для столбца таблицы (типизированных согласно типу столбца) либо по номеру столбца (целое число, значение по умолчанию 0, либо по имени столбца)."
   ]
  },
  {
   "cell_type": "markdown",
   "id": "8813f59b",
   "metadata": {},
   "source": [
    "    set_value(column=0)\n",
    "Аналог set_values(value, column=0) для представления таблицы с одной строкой, устанавливает не список значений, а одно значение (типизированное согласно типу столбца)."
   ]
  },
  {
   "cell_type": "markdown",
   "id": "6a126431",
   "metadata": {},
   "source": [
    "    print_table()\n",
    "Вывод таблицы на печать."
   ]
  },
  {
   "cell_type": "code",
   "execution_count": 453,
   "id": "bdef7001",
   "metadata": {},
   "outputs": [],
   "source": [
    "def print_table(f):\n",
    "    try:\n",
    "        with open(f,'rb') as f_r:\n",
    "            data_new = pickle.load(f_r)\n",
    "            print(', '.join([k for k in data_new.keys()]))\n",
    "            for i in range(len(list(data_new.keys()))):\n",
    "                print(', '.join([v[i] for v in data_new.values()]))\n",
    "    except FileNotFoundError:\n",
    "        print('Такого файла не существует!')"
   ]
  },
  {
   "cell_type": "code",
   "execution_count": 457,
   "id": "5b0212ca",
   "metadata": {},
   "outputs": [
    {
     "name": "stdout",
     "output_type": "stream",
     "text": [
      "Фамилия, Имя, Отчество\n",
      "Петров, Петр, Петрович\n",
      "Иванов, Иван, Иванович\n",
      "Николаев, Николай, Николаевич\n"
     ]
    }
   ],
   "source": [
    "print_table('table.pickle')"
   ]
  },
  {
   "cell_type": "code",
   "execution_count": null,
   "id": "6d5207ce",
   "metadata": {},
   "outputs": [],
   "source": []
  }
 ],
 "metadata": {
  "kernelspec": {
   "display_name": "Python 3 (ipykernel)",
   "language": "python",
   "name": "python3"
  },
  "language_info": {
   "codemirror_mode": {
    "name": "ipython",
    "version": 3
   },
   "file_extension": ".py",
   "mimetype": "text/x-python",
   "name": "python",
   "nbconvert_exporter": "python",
   "pygments_lexer": "ipython3",
   "version": "3.11.4"
  }
 },
 "nbformat": 4,
 "nbformat_minor": 5
}
